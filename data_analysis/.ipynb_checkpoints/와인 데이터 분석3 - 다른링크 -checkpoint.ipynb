{
 "cells": [
  {
   "cell_type": "markdown",
   "id": "4346251e",
   "metadata": {},
   "source": [
    "# EDA "
   ]
  },
  {
   "cell_type": "markdown",
   "id": "5ad34896",
   "metadata": {},
   "source": [
    "### 참고 링크\n",
    "\n",
    "https://melvincabatuan.github.io/Keras-Tutorial-Deep-Learning-in-Python-Walkthrough/"
   ]
  },
  {
   "cell_type": "markdown",
   "id": "0a55b8ed",
   "metadata": {},
   "source": [
    "### 데이터 불러오기"
   ]
  },
  {
   "cell_type": "code",
   "execution_count": 316,
   "id": "335eae07",
   "metadata": {},
   "outputs": [],
   "source": [
    "import pandas as pd\n",
    "\n",
    "import warnings\n",
    "import matplotlib.pyplot as plt\n",
    "\n",
    "## 모델 평가를 위한 패키지\n",
    "from sklearn.metrics import classification_report\n",
    "from sklearn import metrics\n",
    "from sklearn.naive_bayes import GaussianNB\n",
    "from sklearn.ensemble import RandomForestClassifier\n",
    "from sklearn.neighbors import KNeighborsClassifier\n",
    "from sklearn.tree import DecisionTreeClassifier\n",
    "from sklearn.naive_bayes import GaussianNB\n",
    "from sklearn.linear_model import LogisticRegression\n",
    "from sklearn.ensemble import VotingClassifier\n",
    "from sklearn.model_selection import train_test_split\n",
    "from sklearn.preprocessing import StandardScaler\n",
    "from sklearn.neural_network import MLPClassifier\n",
    "from sklearn import svm\n",
    "from sklearn.exceptions import ConvergenceWarning\n",
    "\n",
    "from sklearn.model_selection import cross_val_score, cross_validate\n",
    "\n",
    "import seaborn as sns\n",
    "import numpy as np\n",
    "\n",
    "\n",
    "# Read in white wine data \n",
    "#white = pd.read_csv(\"http://archive.ics.uci.edu/ml/machine-learning-databases/wine-quality/winequality-white.csv\", sep=';')\n",
    "white = pd.read_csv(\"winequality-white.csv\", sep=';')\n",
    "\n",
    "# Read in red wine data \n",
    "# red = pd.read_csv(\"http://archive.ics.uci.edu/ml/machine-learning-databases/wine-quality/winequality-red.csv\", sep=';')\n",
    "red = pd.read_csv(\"winequality-red.csv\", sep=';')\n",
    "\n",
    "# Add `type` column to `red` with value 1\n",
    "red['type'] = 1\n",
    "\n",
    "# Add `type` column to `white` with value 0\n",
    "white['type'] = 0\n",
    "\n",
    "# Append `white` to `red`\n",
    "wines = red.append(white, ignore_index=True)"
   ]
  },
  {
   "cell_type": "markdown",
   "id": "minor-frequency",
   "metadata": {},
   "source": [
    "### 값 확인"
   ]
  },
  {
   "cell_type": "code",
   "execution_count": 317,
   "id": "harmful-stanley",
   "metadata": {},
   "outputs": [
    {
     "data": {
      "text/html": [
       "<div>\n",
       "<style scoped>\n",
       "    .dataframe tbody tr th:only-of-type {\n",
       "        vertical-align: middle;\n",
       "    }\n",
       "\n",
       "    .dataframe tbody tr th {\n",
       "        vertical-align: top;\n",
       "    }\n",
       "\n",
       "    .dataframe thead th {\n",
       "        text-align: right;\n",
       "    }\n",
       "</style>\n",
       "<table border=\"1\" class=\"dataframe\">\n",
       "  <thead>\n",
       "    <tr style=\"text-align: right;\">\n",
       "      <th></th>\n",
       "      <th>fixed acidity</th>\n",
       "      <th>volatile acidity</th>\n",
       "      <th>citric acid</th>\n",
       "      <th>residual sugar</th>\n",
       "      <th>chlorides</th>\n",
       "      <th>free sulfur dioxide</th>\n",
       "      <th>total sulfur dioxide</th>\n",
       "      <th>density</th>\n",
       "      <th>pH</th>\n",
       "      <th>sulphates</th>\n",
       "      <th>alcohol</th>\n",
       "      <th>quality</th>\n",
       "      <th>type</th>\n",
       "    </tr>\n",
       "  </thead>\n",
       "  <tbody>\n",
       "    <tr>\n",
       "      <th>count</th>\n",
       "      <td>6497.000000</td>\n",
       "      <td>6497.000000</td>\n",
       "      <td>6497.000000</td>\n",
       "      <td>6497.000000</td>\n",
       "      <td>6497.000000</td>\n",
       "      <td>6497.000000</td>\n",
       "      <td>6497.000000</td>\n",
       "      <td>6497.000000</td>\n",
       "      <td>6497.000000</td>\n",
       "      <td>6497.000000</td>\n",
       "      <td>6497.000000</td>\n",
       "      <td>6497.000000</td>\n",
       "      <td>6497.000000</td>\n",
       "    </tr>\n",
       "    <tr>\n",
       "      <th>mean</th>\n",
       "      <td>7.215307</td>\n",
       "      <td>0.339666</td>\n",
       "      <td>0.318633</td>\n",
       "      <td>5.443235</td>\n",
       "      <td>0.056034</td>\n",
       "      <td>30.525319</td>\n",
       "      <td>115.744574</td>\n",
       "      <td>0.994697</td>\n",
       "      <td>3.218501</td>\n",
       "      <td>0.531268</td>\n",
       "      <td>10.491801</td>\n",
       "      <td>5.818378</td>\n",
       "      <td>0.246114</td>\n",
       "    </tr>\n",
       "    <tr>\n",
       "      <th>std</th>\n",
       "      <td>1.296434</td>\n",
       "      <td>0.164636</td>\n",
       "      <td>0.145318</td>\n",
       "      <td>4.757804</td>\n",
       "      <td>0.035034</td>\n",
       "      <td>17.749400</td>\n",
       "      <td>56.521855</td>\n",
       "      <td>0.002999</td>\n",
       "      <td>0.160787</td>\n",
       "      <td>0.148806</td>\n",
       "      <td>1.192712</td>\n",
       "      <td>0.873255</td>\n",
       "      <td>0.430779</td>\n",
       "    </tr>\n",
       "    <tr>\n",
       "      <th>min</th>\n",
       "      <td>3.800000</td>\n",
       "      <td>0.080000</td>\n",
       "      <td>0.000000</td>\n",
       "      <td>0.600000</td>\n",
       "      <td>0.009000</td>\n",
       "      <td>1.000000</td>\n",
       "      <td>6.000000</td>\n",
       "      <td>0.987110</td>\n",
       "      <td>2.720000</td>\n",
       "      <td>0.220000</td>\n",
       "      <td>8.000000</td>\n",
       "      <td>3.000000</td>\n",
       "      <td>0.000000</td>\n",
       "    </tr>\n",
       "    <tr>\n",
       "      <th>25%</th>\n",
       "      <td>6.400000</td>\n",
       "      <td>0.230000</td>\n",
       "      <td>0.250000</td>\n",
       "      <td>1.800000</td>\n",
       "      <td>0.038000</td>\n",
       "      <td>17.000000</td>\n",
       "      <td>77.000000</td>\n",
       "      <td>0.992340</td>\n",
       "      <td>3.110000</td>\n",
       "      <td>0.430000</td>\n",
       "      <td>9.500000</td>\n",
       "      <td>5.000000</td>\n",
       "      <td>0.000000</td>\n",
       "    </tr>\n",
       "    <tr>\n",
       "      <th>50%</th>\n",
       "      <td>7.000000</td>\n",
       "      <td>0.290000</td>\n",
       "      <td>0.310000</td>\n",
       "      <td>3.000000</td>\n",
       "      <td>0.047000</td>\n",
       "      <td>29.000000</td>\n",
       "      <td>118.000000</td>\n",
       "      <td>0.994890</td>\n",
       "      <td>3.210000</td>\n",
       "      <td>0.510000</td>\n",
       "      <td>10.300000</td>\n",
       "      <td>6.000000</td>\n",
       "      <td>0.000000</td>\n",
       "    </tr>\n",
       "    <tr>\n",
       "      <th>75%</th>\n",
       "      <td>7.700000</td>\n",
       "      <td>0.400000</td>\n",
       "      <td>0.390000</td>\n",
       "      <td>8.100000</td>\n",
       "      <td>0.065000</td>\n",
       "      <td>41.000000</td>\n",
       "      <td>156.000000</td>\n",
       "      <td>0.996990</td>\n",
       "      <td>3.320000</td>\n",
       "      <td>0.600000</td>\n",
       "      <td>11.300000</td>\n",
       "      <td>6.000000</td>\n",
       "      <td>0.000000</td>\n",
       "    </tr>\n",
       "    <tr>\n",
       "      <th>max</th>\n",
       "      <td>15.900000</td>\n",
       "      <td>1.580000</td>\n",
       "      <td>1.660000</td>\n",
       "      <td>65.800000</td>\n",
       "      <td>0.611000</td>\n",
       "      <td>289.000000</td>\n",
       "      <td>440.000000</td>\n",
       "      <td>1.038980</td>\n",
       "      <td>4.010000</td>\n",
       "      <td>2.000000</td>\n",
       "      <td>14.900000</td>\n",
       "      <td>9.000000</td>\n",
       "      <td>1.000000</td>\n",
       "    </tr>\n",
       "  </tbody>\n",
       "</table>\n",
       "</div>"
      ],
      "text/plain": [
       "       fixed acidity  volatile acidity  citric acid  residual sugar  \\\n",
       "count    6497.000000       6497.000000  6497.000000     6497.000000   \n",
       "mean        7.215307          0.339666     0.318633        5.443235   \n",
       "std         1.296434          0.164636     0.145318        4.757804   \n",
       "min         3.800000          0.080000     0.000000        0.600000   \n",
       "25%         6.400000          0.230000     0.250000        1.800000   \n",
       "50%         7.000000          0.290000     0.310000        3.000000   \n",
       "75%         7.700000          0.400000     0.390000        8.100000   \n",
       "max        15.900000          1.580000     1.660000       65.800000   \n",
       "\n",
       "         chlorides  free sulfur dioxide  total sulfur dioxide      density  \\\n",
       "count  6497.000000          6497.000000           6497.000000  6497.000000   \n",
       "mean      0.056034            30.525319            115.744574     0.994697   \n",
       "std       0.035034            17.749400             56.521855     0.002999   \n",
       "min       0.009000             1.000000              6.000000     0.987110   \n",
       "25%       0.038000            17.000000             77.000000     0.992340   \n",
       "50%       0.047000            29.000000            118.000000     0.994890   \n",
       "75%       0.065000            41.000000            156.000000     0.996990   \n",
       "max       0.611000           289.000000            440.000000     1.038980   \n",
       "\n",
       "                pH    sulphates      alcohol      quality         type  \n",
       "count  6497.000000  6497.000000  6497.000000  6497.000000  6497.000000  \n",
       "mean      3.218501     0.531268    10.491801     5.818378     0.246114  \n",
       "std       0.160787     0.148806     1.192712     0.873255     0.430779  \n",
       "min       2.720000     0.220000     8.000000     3.000000     0.000000  \n",
       "25%       3.110000     0.430000     9.500000     5.000000     0.000000  \n",
       "50%       3.210000     0.510000    10.300000     6.000000     0.000000  \n",
       "75%       3.320000     0.600000    11.300000     6.000000     0.000000  \n",
       "max       4.010000     2.000000    14.900000     9.000000     1.000000  "
      ]
     },
     "execution_count": 317,
     "metadata": {},
     "output_type": "execute_result"
    }
   ],
   "source": [
    "wines.describe()"
   ]
  },
  {
   "cell_type": "code",
   "execution_count": 318,
   "id": "vietnamese-richardson",
   "metadata": {},
   "outputs": [
    {
     "name": "stdout",
     "output_type": "stream",
     "text": [
      "<class 'pandas.core.frame.DataFrame'>\n",
      "RangeIndex: 6497 entries, 0 to 6496\n",
      "Data columns (total 13 columns):\n",
      " #   Column                Non-Null Count  Dtype  \n",
      "---  ------                --------------  -----  \n",
      " 0   fixed acidity         6497 non-null   float64\n",
      " 1   volatile acidity      6497 non-null   float64\n",
      " 2   citric acid           6497 non-null   float64\n",
      " 3   residual sugar        6497 non-null   float64\n",
      " 4   chlorides             6497 non-null   float64\n",
      " 5   free sulfur dioxide   6497 non-null   float64\n",
      " 6   total sulfur dioxide  6497 non-null   float64\n",
      " 7   density               6497 non-null   float64\n",
      " 8   pH                    6497 non-null   float64\n",
      " 9   sulphates             6497 non-null   float64\n",
      " 10  alcohol               6497 non-null   float64\n",
      " 11  quality               6497 non-null   int64  \n",
      " 12  type                  6497 non-null   int64  \n",
      "dtypes: float64(11), int64(2)\n",
      "memory usage: 660.0 KB\n"
     ]
    }
   ],
   "source": [
    "wines.info()"
   ]
  },
  {
   "cell_type": "code",
   "execution_count": 319,
   "id": "a712f4c9",
   "metadata": {},
   "outputs": [
    {
     "data": {
      "text/plain": [
       "<AxesSubplot:>"
      ]
     },
     "execution_count": 319,
     "metadata": {},
     "output_type": "execute_result"
    },
    {
     "data": {
      "image/png": "[encoded data removed]",
      "text/plain": [
       "<Figure size 1440x720 with 1 Axes>"
      ]
     },
     "metadata": {},
     "output_type": "display_data"
    }
   ],
   "source": [
    "%matplotlib inline\n",
    "%config Completer.use_jedi = False\n",
    "\n",
    "plt.rcParams['font.family'] = 'Nanum Gothic'\n",
    "plt.rcParams[\"figure.figsize\"] = (20,10)\n",
    "\n",
    "sns.set_style(\"whitegrid\")\n",
    "sns.boxplot(data = wines) "
   ]
  },
  {
   "cell_type": "markdown",
   "id": "2a291633",
   "metadata": {},
   "source": [
    "### 전처리"
   ]
  },
  {
   "cell_type": "code",
   "execution_count": 320,
   "id": "1fc457fb",
   "metadata": {},
   "outputs": [
    {
     "data": {
      "text/plain": [
       "<AxesSubplot:>"
      ]
     },
     "execution_count": 320,
     "metadata": {},
     "output_type": "execute_result"
    },
    {
     "data": {
      "image/png": "[encoded data removed]",
      "text/plain": [
       "<Figure size 1440x720 with 1 Axes>"
      ]
     },
     "metadata": {},
     "output_type": "display_data"
    }
   ],
   "source": [
    "\n",
    "\n",
    "def typeColumnToInt(typeStr):\n",
    "    if typeStr == \"white\":\n",
    "        return 0\n",
    "    else:\n",
    "        return 1\n",
    "\n",
    "#wines = pd.read_csv(\"train.csv\").drop([\"id\"],axis=1)\n",
    "#wines.type = wines.type.apply(typeColumnToInt)\n",
    "\n",
    "#outlier 제거\n",
    "\n",
    "column_names_for_remove_outliers = ['total sulfur dioxide','free sulfur dioxide']\n",
    "\n",
    "for column_name in column_names_for_remove_outliers:\n",
    "    y = wines[column_name]\n",
    "    removed_outliers = y.between(y.quantile(.25), y.quantile(.75))\n",
    "    index_names = wines[~removed_outliers].index\n",
    "    wines.drop(index_names, inplace=True)\n",
    "\n",
    "sns.boxplot(data=wines)"
   ]
  },
  {
   "cell_type": "code",
   "execution_count": 321,
   "id": "explicit-charity",
   "metadata": {},
   "outputs": [
    {
     "data": {
      "text/plain": [
       "Index(['fixed acidity', 'volatile acidity', 'citric acid', 'residual sugar',\n",
       "       'chlorides', 'free sulfur dioxide', 'total sulfur dioxide', 'density',\n",
       "       'pH', 'sulphates', 'alcohol', 'quality', 'type'],\n",
       "      dtype='object')"
      ]
     },
     "execution_count": 321,
     "metadata": {},
     "output_type": "execute_result"
    }
   ],
   "source": [
    "wines.columns"
   ]
  },
  {
   "cell_type": "code",
   "execution_count": 322,
   "id": "varying-assistant",
   "metadata": {},
   "outputs": [
    {
     "name": "stdout",
     "output_type": "stream",
     "text": [
      "<class 'pandas.core.frame.DataFrame'>\n",
      "Int64Index: 2384 entries, 1 to 6496\n",
      "Data columns (total 13 columns):\n",
      " #   Column                Non-Null Count  Dtype  \n",
      "---  ------                --------------  -----  \n",
      " 0   fixed acidity         2384 non-null   float64\n",
      " 1   volatile acidity      2384 non-null   float64\n",
      " 2   citric acid           2384 non-null   float64\n",
      " 3   residual sugar        2384 non-null   float64\n",
      " 4   chlorides             2384 non-null   float64\n",
      " 5   free sulfur dioxide   2384 non-null   float64\n",
      " 6   total sulfur dioxide  2384 non-null   float64\n",
      " 7   density               2384 non-null   float64\n",
      " 8   pH                    2384 non-null   float64\n",
      " 9   sulphates             2384 non-null   float64\n",
      " 10  alcohol               2384 non-null   float64\n",
      " 11  quality               2384 non-null   int64  \n",
      " 12  type                  2384 non-null   int64  \n",
      "dtypes: float64(11), int64(2)\n",
      "memory usage: 260.8 KB\n"
     ]
    }
   ],
   "source": [
    "wines.info()"
   ]
  },
  {
   "cell_type": "code",
   "execution_count": 323,
   "id": "661a75de",
   "metadata": {},
   "outputs": [
    {
     "data": {
      "text/html": [
       "<div>\n",
       "<style scoped>\n",
       "    .dataframe tbody tr th:only-of-type {\n",
       "        vertical-align: middle;\n",
       "    }\n",
       "\n",
       "    .dataframe tbody tr th {\n",
       "        vertical-align: top;\n",
       "    }\n",
       "\n",
       "    .dataframe thead th {\n",
       "        text-align: right;\n",
       "    }\n",
       "</style>\n",
       "<table border=\"1\" class=\"dataframe\">\n",
       "  <thead>\n",
       "    <tr style=\"text-align: right;\">\n",
       "      <th></th>\n",
       "      <th>fixed acidity</th>\n",
       "      <th>volatile acidity</th>\n",
       "      <th>citric acid</th>\n",
       "      <th>residual sugar</th>\n",
       "      <th>chlorides</th>\n",
       "      <th>free sulfur dioxide</th>\n",
       "      <th>total sulfur dioxide</th>\n",
       "      <th>density</th>\n",
       "      <th>pH</th>\n",
       "      <th>sulphates</th>\n",
       "      <th>alcohol</th>\n",
       "      <th>quality</th>\n",
       "      <th>type</th>\n",
       "    </tr>\n",
       "  </thead>\n",
       "  <tbody>\n",
       "    <tr>\n",
       "      <th>1</th>\n",
       "      <td>7.8</td>\n",
       "      <td>0.880</td>\n",
       "      <td>0.00</td>\n",
       "      <td>2.6</td>\n",
       "      <td>0.098</td>\n",
       "      <td>25.0</td>\n",
       "      <td>67.0</td>\n",
       "      <td>0.9968</td>\n",
       "      <td>3.20</td>\n",
       "      <td>0.68</td>\n",
       "      <td>9.8</td>\n",
       "      <td>5</td>\n",
       "      <td>1</td>\n",
       "    </tr>\n",
       "    <tr>\n",
       "      <th>16</th>\n",
       "      <td>8.5</td>\n",
       "      <td>0.280</td>\n",
       "      <td>0.56</td>\n",
       "      <td>1.8</td>\n",
       "      <td>0.092</td>\n",
       "      <td>35.0</td>\n",
       "      <td>103.0</td>\n",
       "      <td>0.9969</td>\n",
       "      <td>3.30</td>\n",
       "      <td>0.75</td>\n",
       "      <td>10.5</td>\n",
       "      <td>7</td>\n",
       "      <td>1</td>\n",
       "    </tr>\n",
       "    <tr>\n",
       "      <th>21</th>\n",
       "      <td>7.6</td>\n",
       "      <td>0.390</td>\n",
       "      <td>0.31</td>\n",
       "      <td>2.3</td>\n",
       "      <td>0.082</td>\n",
       "      <td>23.0</td>\n",
       "      <td>71.0</td>\n",
       "      <td>0.9982</td>\n",
       "      <td>3.52</td>\n",
       "      <td>0.65</td>\n",
       "      <td>9.7</td>\n",
       "      <td>5</td>\n",
       "      <td>1</td>\n",
       "    </tr>\n",
       "    <tr>\n",
       "      <th>33</th>\n",
       "      <td>6.9</td>\n",
       "      <td>0.605</td>\n",
       "      <td>0.12</td>\n",
       "      <td>10.7</td>\n",
       "      <td>0.073</td>\n",
       "      <td>40.0</td>\n",
       "      <td>83.0</td>\n",
       "      <td>0.9993</td>\n",
       "      <td>3.45</td>\n",
       "      <td>0.52</td>\n",
       "      <td>9.4</td>\n",
       "      <td>6</td>\n",
       "      <td>1</td>\n",
       "    </tr>\n",
       "    <tr>\n",
       "      <th>46</th>\n",
       "      <td>7.7</td>\n",
       "      <td>0.935</td>\n",
       "      <td>0.43</td>\n",
       "      <td>2.2</td>\n",
       "      <td>0.114</td>\n",
       "      <td>22.0</td>\n",
       "      <td>114.0</td>\n",
       "      <td>0.9970</td>\n",
       "      <td>3.25</td>\n",
       "      <td>0.73</td>\n",
       "      <td>9.2</td>\n",
       "      <td>5</td>\n",
       "      <td>1</td>\n",
       "    </tr>\n",
       "  </tbody>\n",
       "</table>\n",
       "</div>"
      ],
      "text/plain": [
       "    fixed acidity  volatile acidity  citric acid  residual sugar  chlorides  \\\n",
       "1             7.8             0.880         0.00             2.6      0.098   \n",
       "16            8.5             0.280         0.56             1.8      0.092   \n",
       "21            7.6             0.390         0.31             2.3      0.082   \n",
       "33            6.9             0.605         0.12            10.7      0.073   \n",
       "46            7.7             0.935         0.43             2.2      0.114   \n",
       "\n",
       "    free sulfur dioxide  total sulfur dioxide  density    pH  sulphates  \\\n",
       "1                  25.0                  67.0   0.9968  3.20       0.68   \n",
       "16                 35.0                 103.0   0.9969  3.30       0.75   \n",
       "21                 23.0                  71.0   0.9982  3.52       0.65   \n",
       "33                 40.0                  83.0   0.9993  3.45       0.52   \n",
       "46                 22.0                 114.0   0.9970  3.25       0.73   \n",
       "\n",
       "    alcohol  quality  type  \n",
       "1       9.8        5     1  \n",
       "16     10.5        7     1  \n",
       "21      9.7        5     1  \n",
       "33      9.4        6     1  \n",
       "46      9.2        5     1  "
      ]
     },
     "execution_count": 323,
     "metadata": {},
     "output_type": "execute_result"
    }
   ],
   "source": [
    "wines.head()"
   ]
  },
  {
   "cell_type": "markdown",
   "id": "0489d38e",
   "metadata": {},
   "source": [
    "### 결측치 확인"
   ]
  },
  {
   "cell_type": "code",
   "execution_count": 324,
   "id": "eedfdf6a",
   "metadata": {},
   "outputs": [
    {
     "name": "stdout",
     "output_type": "stream",
     "text": [
      "결측치가 존재하지 않습니다\n"
     ]
    }
   ],
   "source": [
    "def check_missing_col(dataframe):\n",
    "    counted_missing_col = 0\n",
    "    for i, col in enumerate(dataframe.columns):\n",
    "        missing_values = sum(dataframe[col].isna())\n",
    "        is_missing = True if missing_values >= 1 else False\n",
    "        if is_missing:\n",
    "            counted_missing_col += 1\n",
    "            print(f'결측치가 있는 컬럼은: {col}입니다')\n",
    "            print(f'총 {missing_values}개의 결측치가 존재합니다.')\n",
    "\n",
    "        if i == len(dataframe.columns) - 1 and counted_missing_col == 0:\n",
    "            print('결측치가 존재하지 않습니다')\n",
    "\n",
    "check_missing_col(wines)"
   ]
  },
  {
   "cell_type": "markdown",
   "id": "cac54d90",
   "metadata": {},
   "source": [
    "### 정답 레이블 분포 확인"
   ]
  },
  {
   "cell_type": "code",
   "execution_count": 325,
   "id": "a6898042",
   "metadata": {},
   "outputs": [
    {
     "data": {
      "image/png": "[encoded data removed]",
      "text/plain": [
       "<Figure size 864x720 with 1 Axes>"
      ]
     },
     "metadata": {},
     "output_type": "display_data"
    }
   ],
   "source": [
    "counted_values = wines['quality'].value_counts()\n",
    "plt.style.use('ggplot')\n",
    "plt.figure(figsize=(12, 10))\n",
    "value_bar_ax = sns.barplot(x=counted_values.index, y=counted_values)\n",
    "value_bar_ax.tick_params(labelsize=20)"
   ]
  },
  {
   "cell_type": "markdown",
   "id": "1fb56191",
   "metadata": {},
   "source": [
    "### 상관관계 분석"
   ]
  },
  {
   "cell_type": "code",
   "execution_count": 326,
   "id": "45a1da83",
   "metadata": {},
   "outputs": [
    {
     "data": {
      "image/png": "[encoded data removed]",
      "text/plain": [
       "<Figure size 1440x720 with 2 Axes>"
      ]
     },
     "metadata": {},
     "output_type": "display_data"
    }
   ],
   "source": [
    "corr = wines.corr()\n",
    "sns.heatmap(corr, \n",
    "            xticklabels=corr.columns.values,\n",
    "            yticklabels=corr.columns.values, annot=True, cmap='coolwarm')\n",
    "plt.show()"
   ]
  },
  {
   "cell_type": "markdown",
   "id": "9d35008b",
   "metadata": {},
   "source": [
    "### Train 데이터와 Test 데이터로 나누고, 데이터 확인"
   ]
  },
  {
   "cell_type": "code",
   "execution_count": 327,
   "id": "20d5a3b2",
   "metadata": {},
   "outputs": [],
   "source": [
    "wines_copy = wines.copy()\n",
    "\n",
    "df1 = wines_copy.pop('type') # remove column b and store it in df1\n",
    "df2 = wines_copy.pop('quality') # remove column x and store it in df2\n",
    "wines_copy['type']= df1 # add b series as a 'new' column.\n",
    "wines_copy['quality']= df2 # add b series as a 'new' column.\n",
    "\n",
    "# Specify the data \n",
    "X = wines_copy.iloc[:,0:-1]  # 12 dimensions\n",
    "\n",
    "# Specify the target labels and flatten the array \n",
    "y = np.ravel(wines_copy.quality)\n",
    "\n",
    "# Split the data up in train and test sets\n",
    "x_train, x_test, y_train, y_test = train_test_split(X, y, test_size=0.33, random_state=42)\n",
    "\n",
    "# train 및 test의 quality 항목을 제거해준다.\n",
    "# x_train = x_train.drop([\"type\"],axis=1)\n",
    "# x_test = x_test.drop([\"type\"],axis=1)\n"
   ]
  },
  {
   "cell_type": "code",
   "execution_count": 328,
   "id": "touched-reading",
   "metadata": {},
   "outputs": [
    {
     "data": {
      "text/html": [
       "<div>\n",
       "<style scoped>\n",
       "    .dataframe tbody tr th:only-of-type {\n",
       "        vertical-align: middle;\n",
       "    }\n",
       "\n",
       "    .dataframe tbody tr th {\n",
       "        vertical-align: top;\n",
       "    }\n",
       "\n",
       "    .dataframe thead th {\n",
       "        text-align: right;\n",
       "    }\n",
       "</style>\n",
       "<table border=\"1\" class=\"dataframe\">\n",
       "  <thead>\n",
       "    <tr style=\"text-align: right;\">\n",
       "      <th></th>\n",
       "      <th>fixed acidity</th>\n",
       "      <th>volatile acidity</th>\n",
       "      <th>citric acid</th>\n",
       "      <th>residual sugar</th>\n",
       "      <th>chlorides</th>\n",
       "      <th>free sulfur dioxide</th>\n",
       "      <th>total sulfur dioxide</th>\n",
       "      <th>density</th>\n",
       "      <th>pH</th>\n",
       "      <th>sulphates</th>\n",
       "      <th>alcohol</th>\n",
       "      <th>type</th>\n",
       "    </tr>\n",
       "  </thead>\n",
       "  <tbody>\n",
       "    <tr>\n",
       "      <th>1870</th>\n",
       "      <td>5.2</td>\n",
       "      <td>0.60</td>\n",
       "      <td>0.07</td>\n",
       "      <td>7.0</td>\n",
       "      <td>0.044</td>\n",
       "      <td>33.0</td>\n",
       "      <td>147.0</td>\n",
       "      <td>0.99440</td>\n",
       "      <td>3.33</td>\n",
       "      <td>0.58</td>\n",
       "      <td>9.7</td>\n",
       "      <td>0</td>\n",
       "    </tr>\n",
       "    <tr>\n",
       "      <th>2416</th>\n",
       "      <td>6.6</td>\n",
       "      <td>0.56</td>\n",
       "      <td>0.22</td>\n",
       "      <td>8.9</td>\n",
       "      <td>0.034</td>\n",
       "      <td>27.0</td>\n",
       "      <td>133.0</td>\n",
       "      <td>0.99675</td>\n",
       "      <td>3.20</td>\n",
       "      <td>0.51</td>\n",
       "      <td>9.1</td>\n",
       "      <td>0</td>\n",
       "    </tr>\n",
       "    <tr>\n",
       "      <th>5246</th>\n",
       "      <td>6.4</td>\n",
       "      <td>0.29</td>\n",
       "      <td>0.24</td>\n",
       "      <td>3.2</td>\n",
       "      <td>0.037</td>\n",
       "      <td>31.0</td>\n",
       "      <td>95.0</td>\n",
       "      <td>0.98942</td>\n",
       "      <td>2.90</td>\n",
       "      <td>0.66</td>\n",
       "      <td>12.6</td>\n",
       "      <td>0</td>\n",
       "    </tr>\n",
       "    <tr>\n",
       "      <th>4797</th>\n",
       "      <td>6.4</td>\n",
       "      <td>0.22</td>\n",
       "      <td>0.38</td>\n",
       "      <td>9.1</td>\n",
       "      <td>0.044</td>\n",
       "      <td>35.0</td>\n",
       "      <td>127.0</td>\n",
       "      <td>0.99326</td>\n",
       "      <td>2.97</td>\n",
       "      <td>0.30</td>\n",
       "      <td>11.0</td>\n",
       "      <td>0</td>\n",
       "    </tr>\n",
       "    <tr>\n",
       "      <th>2697</th>\n",
       "      <td>6.5</td>\n",
       "      <td>0.29</td>\n",
       "      <td>0.25</td>\n",
       "      <td>10.6</td>\n",
       "      <td>0.039</td>\n",
       "      <td>32.0</td>\n",
       "      <td>120.0</td>\n",
       "      <td>0.99620</td>\n",
       "      <td>3.31</td>\n",
       "      <td>0.34</td>\n",
       "      <td>10.1</td>\n",
       "      <td>0</td>\n",
       "    </tr>\n",
       "  </tbody>\n",
       "</table>\n",
       "</div>"
      ],
      "text/plain": [
       "      fixed acidity  volatile acidity  citric acid  residual sugar  chlorides  \\\n",
       "1870            5.2              0.60         0.07             7.0      0.044   \n",
       "2416            6.6              0.56         0.22             8.9      0.034   \n",
       "5246            6.4              0.29         0.24             3.2      0.037   \n",
       "4797            6.4              0.22         0.38             9.1      0.044   \n",
       "2697            6.5              0.29         0.25            10.6      0.039   \n",
       "\n",
       "      free sulfur dioxide  total sulfur dioxide  density    pH  sulphates  \\\n",
       "1870                 33.0                 147.0  0.99440  3.33       0.58   \n",
       "2416                 27.0                 133.0  0.99675  3.20       0.51   \n",
       "5246                 31.0                  95.0  0.98942  2.90       0.66   \n",
       "4797                 35.0                 127.0  0.99326  2.97       0.30   \n",
       "2697                 32.0                 120.0  0.99620  3.31       0.34   \n",
       "\n",
       "      alcohol  type  \n",
       "1870      9.7     0  \n",
       "2416      9.1     0  \n",
       "5246     12.6     0  \n",
       "4797     11.0     0  \n",
       "2697     10.1     0  "
      ]
     },
     "execution_count": 328,
     "metadata": {},
     "output_type": "execute_result"
    }
   ],
   "source": [
    "x_train.head()"
   ]
  },
  {
   "cell_type": "code",
   "execution_count": 329,
   "id": "reserved-assistant",
   "metadata": {},
   "outputs": [
    {
     "data": {
      "text/html": [
       "<div>\n",
       "<style scoped>\n",
       "    .dataframe tbody tr th:only-of-type {\n",
       "        vertical-align: middle;\n",
       "    }\n",
       "\n",
       "    .dataframe tbody tr th {\n",
       "        vertical-align: top;\n",
       "    }\n",
       "\n",
       "    .dataframe thead th {\n",
       "        text-align: right;\n",
       "    }\n",
       "</style>\n",
       "<table border=\"1\" class=\"dataframe\">\n",
       "  <thead>\n",
       "    <tr style=\"text-align: right;\">\n",
       "      <th></th>\n",
       "      <th>fixed acidity</th>\n",
       "      <th>volatile acidity</th>\n",
       "      <th>citric acid</th>\n",
       "      <th>residual sugar</th>\n",
       "      <th>chlorides</th>\n",
       "      <th>free sulfur dioxide</th>\n",
       "      <th>total sulfur dioxide</th>\n",
       "      <th>density</th>\n",
       "      <th>pH</th>\n",
       "      <th>sulphates</th>\n",
       "      <th>alcohol</th>\n",
       "      <th>quality</th>\n",
       "      <th>type</th>\n",
       "    </tr>\n",
       "  </thead>\n",
       "  <tbody>\n",
       "    <tr>\n",
       "      <th>1</th>\n",
       "      <td>7.8</td>\n",
       "      <td>0.880</td>\n",
       "      <td>0.00</td>\n",
       "      <td>2.6</td>\n",
       "      <td>0.098</td>\n",
       "      <td>25.0</td>\n",
       "      <td>67.0</td>\n",
       "      <td>0.9968</td>\n",
       "      <td>3.20</td>\n",
       "      <td>0.68</td>\n",
       "      <td>9.8</td>\n",
       "      <td>5</td>\n",
       "      <td>1</td>\n",
       "    </tr>\n",
       "    <tr>\n",
       "      <th>16</th>\n",
       "      <td>8.5</td>\n",
       "      <td>0.280</td>\n",
       "      <td>0.56</td>\n",
       "      <td>1.8</td>\n",
       "      <td>0.092</td>\n",
       "      <td>35.0</td>\n",
       "      <td>103.0</td>\n",
       "      <td>0.9969</td>\n",
       "      <td>3.30</td>\n",
       "      <td>0.75</td>\n",
       "      <td>10.5</td>\n",
       "      <td>7</td>\n",
       "      <td>1</td>\n",
       "    </tr>\n",
       "    <tr>\n",
       "      <th>21</th>\n",
       "      <td>7.6</td>\n",
       "      <td>0.390</td>\n",
       "      <td>0.31</td>\n",
       "      <td>2.3</td>\n",
       "      <td>0.082</td>\n",
       "      <td>23.0</td>\n",
       "      <td>71.0</td>\n",
       "      <td>0.9982</td>\n",
       "      <td>3.52</td>\n",
       "      <td>0.65</td>\n",
       "      <td>9.7</td>\n",
       "      <td>5</td>\n",
       "      <td>1</td>\n",
       "    </tr>\n",
       "    <tr>\n",
       "      <th>33</th>\n",
       "      <td>6.9</td>\n",
       "      <td>0.605</td>\n",
       "      <td>0.12</td>\n",
       "      <td>10.7</td>\n",
       "      <td>0.073</td>\n",
       "      <td>40.0</td>\n",
       "      <td>83.0</td>\n",
       "      <td>0.9993</td>\n",
       "      <td>3.45</td>\n",
       "      <td>0.52</td>\n",
       "      <td>9.4</td>\n",
       "      <td>6</td>\n",
       "      <td>1</td>\n",
       "    </tr>\n",
       "    <tr>\n",
       "      <th>46</th>\n",
       "      <td>7.7</td>\n",
       "      <td>0.935</td>\n",
       "      <td>0.43</td>\n",
       "      <td>2.2</td>\n",
       "      <td>0.114</td>\n",
       "      <td>22.0</td>\n",
       "      <td>114.0</td>\n",
       "      <td>0.9970</td>\n",
       "      <td>3.25</td>\n",
       "      <td>0.73</td>\n",
       "      <td>9.2</td>\n",
       "      <td>5</td>\n",
       "      <td>1</td>\n",
       "    </tr>\n",
       "  </tbody>\n",
       "</table>\n",
       "</div>"
      ],
      "text/plain": [
       "    fixed acidity  volatile acidity  citric acid  residual sugar  chlorides  \\\n",
       "1             7.8             0.880         0.00             2.6      0.098   \n",
       "16            8.5             0.280         0.56             1.8      0.092   \n",
       "21            7.6             0.390         0.31             2.3      0.082   \n",
       "33            6.9             0.605         0.12            10.7      0.073   \n",
       "46            7.7             0.935         0.43             2.2      0.114   \n",
       "\n",
       "    free sulfur dioxide  total sulfur dioxide  density    pH  sulphates  \\\n",
       "1                  25.0                  67.0   0.9968  3.20       0.68   \n",
       "16                 35.0                 103.0   0.9969  3.30       0.75   \n",
       "21                 23.0                  71.0   0.9982  3.52       0.65   \n",
       "33                 40.0                  83.0   0.9993  3.45       0.52   \n",
       "46                 22.0                 114.0   0.9970  3.25       0.73   \n",
       "\n",
       "    alcohol  quality  type  \n",
       "1       9.8        5     1  \n",
       "16     10.5        7     1  \n",
       "21      9.7        5     1  \n",
       "33      9.4        6     1  \n",
       "46      9.2        5     1  "
      ]
     },
     "execution_count": 329,
     "metadata": {},
     "output_type": "execute_result"
    }
   ],
   "source": [
    "wines.head()"
   ]
  },
  {
   "cell_type": "code",
   "execution_count": 330,
   "id": "modern-multimedia",
   "metadata": {},
   "outputs": [
    {
     "data": {
      "text/html": [
       "<div>\n",
       "<style scoped>\n",
       "    .dataframe tbody tr th:only-of-type {\n",
       "        vertical-align: middle;\n",
       "    }\n",
       "\n",
       "    .dataframe tbody tr th {\n",
       "        vertical-align: top;\n",
       "    }\n",
       "\n",
       "    .dataframe thead th {\n",
       "        text-align: right;\n",
       "    }\n",
       "</style>\n",
       "<table border=\"1\" class=\"dataframe\">\n",
       "  <thead>\n",
       "    <tr style=\"text-align: right;\">\n",
       "      <th></th>\n",
       "      <th>fixed acidity</th>\n",
       "      <th>volatile acidity</th>\n",
       "      <th>citric acid</th>\n",
       "      <th>residual sugar</th>\n",
       "      <th>chlorides</th>\n",
       "      <th>free sulfur dioxide</th>\n",
       "      <th>total sulfur dioxide</th>\n",
       "      <th>density</th>\n",
       "      <th>pH</th>\n",
       "      <th>sulphates</th>\n",
       "      <th>alcohol</th>\n",
       "      <th>type</th>\n",
       "    </tr>\n",
       "  </thead>\n",
       "  <tbody>\n",
       "    <tr>\n",
       "      <th>4905</th>\n",
       "      <td>6.0</td>\n",
       "      <td>0.32</td>\n",
       "      <td>0.30</td>\n",
       "      <td>1.9</td>\n",
       "      <td>0.033</td>\n",
       "      <td>41.0</td>\n",
       "      <td>142.0</td>\n",
       "      <td>0.98912</td>\n",
       "      <td>3.29</td>\n",
       "      <td>0.42</td>\n",
       "      <td>12.8</td>\n",
       "      <td>0</td>\n",
       "    </tr>\n",
       "    <tr>\n",
       "      <th>4961</th>\n",
       "      <td>7.2</td>\n",
       "      <td>0.22</td>\n",
       "      <td>0.28</td>\n",
       "      <td>7.2</td>\n",
       "      <td>0.060</td>\n",
       "      <td>41.0</td>\n",
       "      <td>132.0</td>\n",
       "      <td>0.99350</td>\n",
       "      <td>3.08</td>\n",
       "      <td>0.59</td>\n",
       "      <td>11.3</td>\n",
       "      <td>0</td>\n",
       "    </tr>\n",
       "    <tr>\n",
       "      <th>3781</th>\n",
       "      <td>6.6</td>\n",
       "      <td>0.32</td>\n",
       "      <td>0.27</td>\n",
       "      <td>10.9</td>\n",
       "      <td>0.041</td>\n",
       "      <td>37.0</td>\n",
       "      <td>146.0</td>\n",
       "      <td>0.99630</td>\n",
       "      <td>3.24</td>\n",
       "      <td>0.47</td>\n",
       "      <td>10.0</td>\n",
       "      <td>0</td>\n",
       "    </tr>\n",
       "    <tr>\n",
       "      <th>5694</th>\n",
       "      <td>6.6</td>\n",
       "      <td>0.41</td>\n",
       "      <td>0.27</td>\n",
       "      <td>10.7</td>\n",
       "      <td>0.110</td>\n",
       "      <td>20.0</td>\n",
       "      <td>103.0</td>\n",
       "      <td>0.99672</td>\n",
       "      <td>3.08</td>\n",
       "      <td>0.41</td>\n",
       "      <td>9.0</td>\n",
       "      <td>0</td>\n",
       "    </tr>\n",
       "    <tr>\n",
       "      <th>1841</th>\n",
       "      <td>7.1</td>\n",
       "      <td>0.21</td>\n",
       "      <td>0.37</td>\n",
       "      <td>2.4</td>\n",
       "      <td>0.026</td>\n",
       "      <td>23.0</td>\n",
       "      <td>100.0</td>\n",
       "      <td>0.99030</td>\n",
       "      <td>3.15</td>\n",
       "      <td>0.38</td>\n",
       "      <td>11.4</td>\n",
       "      <td>0</td>\n",
       "    </tr>\n",
       "  </tbody>\n",
       "</table>\n",
       "</div>"
      ],
      "text/plain": [
       "      fixed acidity  volatile acidity  citric acid  residual sugar  chlorides  \\\n",
       "4905            6.0              0.32         0.30             1.9      0.033   \n",
       "4961            7.2              0.22         0.28             7.2      0.060   \n",
       "3781            6.6              0.32         0.27            10.9      0.041   \n",
       "5694            6.6              0.41         0.27            10.7      0.110   \n",
       "1841            7.1              0.21         0.37             2.4      0.026   \n",
       "\n",
       "      free sulfur dioxide  total sulfur dioxide  density    pH  sulphates  \\\n",
       "4905                 41.0                 142.0  0.98912  3.29       0.42   \n",
       "4961                 41.0                 132.0  0.99350  3.08       0.59   \n",
       "3781                 37.0                 146.0  0.99630  3.24       0.47   \n",
       "5694                 20.0                 103.0  0.99672  3.08       0.41   \n",
       "1841                 23.0                 100.0  0.99030  3.15       0.38   \n",
       "\n",
       "      alcohol  type  \n",
       "4905     12.8     0  \n",
       "4961     11.3     0  \n",
       "3781     10.0     0  \n",
       "5694      9.0     0  \n",
       "1841     11.4     0  "
      ]
     },
     "execution_count": 330,
     "metadata": {},
     "output_type": "execute_result"
    }
   ],
   "source": [
    "x_test.head()"
   ]
  },
  {
   "cell_type": "code",
   "execution_count": 331,
   "id": "a0db54e4",
   "metadata": {},
   "outputs": [
    {
     "data": {
      "text/html": [
       "<div>\n",
       "<style scoped>\n",
       "    .dataframe tbody tr th:only-of-type {\n",
       "        vertical-align: middle;\n",
       "    }\n",
       "\n",
       "    .dataframe tbody tr th {\n",
       "        vertical-align: top;\n",
       "    }\n",
       "\n",
       "    .dataframe thead th {\n",
       "        text-align: right;\n",
       "    }\n",
       "</style>\n",
       "<table border=\"1\" class=\"dataframe\">\n",
       "  <thead>\n",
       "    <tr style=\"text-align: right;\">\n",
       "      <th></th>\n",
       "      <th>fixed acidity</th>\n",
       "      <th>volatile acidity</th>\n",
       "      <th>citric acid</th>\n",
       "      <th>residual sugar</th>\n",
       "      <th>chlorides</th>\n",
       "      <th>free sulfur dioxide</th>\n",
       "      <th>total sulfur dioxide</th>\n",
       "      <th>density</th>\n",
       "      <th>pH</th>\n",
       "      <th>sulphates</th>\n",
       "      <th>alcohol</th>\n",
       "      <th>type</th>\n",
       "    </tr>\n",
       "  </thead>\n",
       "  <tbody>\n",
       "    <tr>\n",
       "      <th>1870</th>\n",
       "      <td>5.2</td>\n",
       "      <td>0.60</td>\n",
       "      <td>0.07</td>\n",
       "      <td>7.0</td>\n",
       "      <td>0.044</td>\n",
       "      <td>33.0</td>\n",
       "      <td>147.0</td>\n",
       "      <td>0.99440</td>\n",
       "      <td>3.33</td>\n",
       "      <td>0.58</td>\n",
       "      <td>9.7</td>\n",
       "      <td>0</td>\n",
       "    </tr>\n",
       "    <tr>\n",
       "      <th>2416</th>\n",
       "      <td>6.6</td>\n",
       "      <td>0.56</td>\n",
       "      <td>0.22</td>\n",
       "      <td>8.9</td>\n",
       "      <td>0.034</td>\n",
       "      <td>27.0</td>\n",
       "      <td>133.0</td>\n",
       "      <td>0.99675</td>\n",
       "      <td>3.20</td>\n",
       "      <td>0.51</td>\n",
       "      <td>9.1</td>\n",
       "      <td>0</td>\n",
       "    </tr>\n",
       "    <tr>\n",
       "      <th>5246</th>\n",
       "      <td>6.4</td>\n",
       "      <td>0.29</td>\n",
       "      <td>0.24</td>\n",
       "      <td>3.2</td>\n",
       "      <td>0.037</td>\n",
       "      <td>31.0</td>\n",
       "      <td>95.0</td>\n",
       "      <td>0.98942</td>\n",
       "      <td>2.90</td>\n",
       "      <td>0.66</td>\n",
       "      <td>12.6</td>\n",
       "      <td>0</td>\n",
       "    </tr>\n",
       "    <tr>\n",
       "      <th>4797</th>\n",
       "      <td>6.4</td>\n",
       "      <td>0.22</td>\n",
       "      <td>0.38</td>\n",
       "      <td>9.1</td>\n",
       "      <td>0.044</td>\n",
       "      <td>35.0</td>\n",
       "      <td>127.0</td>\n",
       "      <td>0.99326</td>\n",
       "      <td>2.97</td>\n",
       "      <td>0.30</td>\n",
       "      <td>11.0</td>\n",
       "      <td>0</td>\n",
       "    </tr>\n",
       "    <tr>\n",
       "      <th>2697</th>\n",
       "      <td>6.5</td>\n",
       "      <td>0.29</td>\n",
       "      <td>0.25</td>\n",
       "      <td>10.6</td>\n",
       "      <td>0.039</td>\n",
       "      <td>32.0</td>\n",
       "      <td>120.0</td>\n",
       "      <td>0.99620</td>\n",
       "      <td>3.31</td>\n",
       "      <td>0.34</td>\n",
       "      <td>10.1</td>\n",
       "      <td>0</td>\n",
       "    </tr>\n",
       "  </tbody>\n",
       "</table>\n",
       "</div>"
      ],
      "text/plain": [
       "      fixed acidity  volatile acidity  citric acid  residual sugar  chlorides  \\\n",
       "1870            5.2              0.60         0.07             7.0      0.044   \n",
       "2416            6.6              0.56         0.22             8.9      0.034   \n",
       "5246            6.4              0.29         0.24             3.2      0.037   \n",
       "4797            6.4              0.22         0.38             9.1      0.044   \n",
       "2697            6.5              0.29         0.25            10.6      0.039   \n",
       "\n",
       "      free sulfur dioxide  total sulfur dioxide  density    pH  sulphates  \\\n",
       "1870                 33.0                 147.0  0.99440  3.33       0.58   \n",
       "2416                 27.0                 133.0  0.99675  3.20       0.51   \n",
       "5246                 31.0                  95.0  0.98942  2.90       0.66   \n",
       "4797                 35.0                 127.0  0.99326  2.97       0.30   \n",
       "2697                 32.0                 120.0  0.99620  3.31       0.34   \n",
       "\n",
       "      alcohol  type  \n",
       "1870      9.7     0  \n",
       "2416      9.1     0  \n",
       "5246     12.6     0  \n",
       "4797     11.0     0  \n",
       "2697     10.1     0  "
      ]
     },
     "execution_count": 331,
     "metadata": {},
     "output_type": "execute_result"
    }
   ],
   "source": [
    "x_train.head()"
   ]
  },
  {
   "cell_type": "code",
   "execution_count": 332,
   "id": "60f08079",
   "metadata": {},
   "outputs": [
    {
     "name": "stdout",
     "output_type": "stream",
     "text": [
      "<class 'pandas.core.frame.DataFrame'>\n",
      "Int64Index: 1597 entries, 1870 to 3103\n",
      "Data columns (total 12 columns):\n",
      " #   Column                Non-Null Count  Dtype  \n",
      "---  ------                --------------  -----  \n",
      " 0   fixed acidity         1597 non-null   float64\n",
      " 1   volatile acidity      1597 non-null   float64\n",
      " 2   citric acid           1597 non-null   float64\n",
      " 3   residual sugar        1597 non-null   float64\n",
      " 4   chlorides             1597 non-null   float64\n",
      " 5   free sulfur dioxide   1597 non-null   float64\n",
      " 6   total sulfur dioxide  1597 non-null   float64\n",
      " 7   density               1597 non-null   float64\n",
      " 8   pH                    1597 non-null   float64\n",
      " 9   sulphates             1597 non-null   float64\n",
      " 10  alcohol               1597 non-null   float64\n",
      " 11  type                  1597 non-null   int64  \n",
      "dtypes: float64(11), int64(1)\n",
      "memory usage: 162.2 KB\n"
     ]
    }
   ],
   "source": [
    "x_train.info()"
   ]
  },
  {
   "cell_type": "code",
   "execution_count": 333,
   "id": "3fb44a0f",
   "metadata": {},
   "outputs": [
    {
     "name": "stdout",
     "output_type": "stream",
     "text": [
      "<class 'pandas.core.frame.DataFrame'>\n",
      "Int64Index: 787 entries, 4905 to 3652\n",
      "Data columns (total 12 columns):\n",
      " #   Column                Non-Null Count  Dtype  \n",
      "---  ------                --------------  -----  \n",
      " 0   fixed acidity         787 non-null    float64\n",
      " 1   volatile acidity      787 non-null    float64\n",
      " 2   citric acid           787 non-null    float64\n",
      " 3   residual sugar        787 non-null    float64\n",
      " 4   chlorides             787 non-null    float64\n",
      " 5   free sulfur dioxide   787 non-null    float64\n",
      " 6   total sulfur dioxide  787 non-null    float64\n",
      " 7   density               787 non-null    float64\n",
      " 8   pH                    787 non-null    float64\n",
      " 9   sulphates             787 non-null    float64\n",
      " 10  alcohol               787 non-null    float64\n",
      " 11  type                  787 non-null    int64  \n",
      "dtypes: float64(11), int64(1)\n",
      "memory usage: 79.9 KB\n"
     ]
    }
   ],
   "source": [
    "x_test.info()"
   ]
  },
  {
   "cell_type": "markdown",
   "id": "499ccbae",
   "metadata": {},
   "source": [
    "### DecisionTreeClassifier를 이용한 분류"
   ]
  },
  {
   "cell_type": "code",
   "execution_count": 334,
   "id": "8868b40d",
   "metadata": {},
   "outputs": [
    {
     "name": "stdout",
     "output_type": "stream",
     "text": [
      "Train 정확도 : 100.0%\n",
      "Test 정확도 : 57.3%\n"
     ]
    }
   ],
   "source": [
    "estimator = DecisionTreeClassifier(criterion='gini', max_depth=None, max_leaf_nodes=None, min_samples_split=2, min_samples_leaf=1, max_features=None)\n",
    "\n",
    "estimator.fit(x_train, y_train)\n",
    "\n",
    "y_predict = estimator.predict(x_train) \n",
    "score = metrics.accuracy_score(y_train, y_predict)\n",
    "print(\"Train 정확도 : {}%\".format(round(score * 100,1))) #1.0\n",
    "\n",
    "y_predict = estimator.predict(x_test) \n",
    "score = metrics.accuracy_score(y_test, y_predict)\n",
    "print(\"Test 정확도 : {}%\".format(round(score * 100,1))) #1.0"
   ]
  },
  {
   "cell_type": "markdown",
   "id": "f999ac87",
   "metadata": {},
   "source": [
    "### DecisionTree 결과 시각화"
   ]
  },
  {
   "cell_type": "code",
   "execution_count": 335,
   "id": "eeb4ec8d",
   "metadata": {
    "scrolled": true
   },
   "outputs": [
    {
     "ename": "FileNotFoundError",
     "evalue": "[Errno 2] No such file or directory: 'dot'",
     "output_type": "error",
     "traceback": [
      "\u001b[0;31m---------------------------------------------------------------------------\u001b[0m",
      "\u001b[0;31mFileNotFoundError\u001b[0m                         Traceback (most recent call last)",
      "\u001b[0;32m<ipython-input-335-6ed6c5dfe135>\u001b[0m in \u001b[0;36m<module>\u001b[0;34m\u001b[0m\n\u001b[1;32m      6\u001b[0m \u001b[0;31m# 생성된 .dot 파일을 .png로 변환\u001b[0m\u001b[0;34m\u001b[0m\u001b[0;34m\u001b[0m\u001b[0;34m\u001b[0m\u001b[0m\n\u001b[1;32m      7\u001b[0m \u001b[0;32mfrom\u001b[0m \u001b[0msubprocess\u001b[0m \u001b[0;32mimport\u001b[0m \u001b[0mcall\u001b[0m\u001b[0;34m\u001b[0m\u001b[0;34m\u001b[0m\u001b[0m\n\u001b[0;32m----> 8\u001b[0;31m \u001b[0mcall\u001b[0m\u001b[0;34m(\u001b[0m\u001b[0;34m[\u001b[0m\u001b[0;34m'dot'\u001b[0m\u001b[0;34m,\u001b[0m \u001b[0;34m'-Tpng'\u001b[0m\u001b[0;34m,\u001b[0m \u001b[0;34m'tree.dot'\u001b[0m\u001b[0;34m,\u001b[0m \u001b[0;34m'-o'\u001b[0m\u001b[0;34m,\u001b[0m \u001b[0;34m'decistion-tree.png'\u001b[0m\u001b[0;34m,\u001b[0m \u001b[0;34m'-Gdpi=600'\u001b[0m\u001b[0;34m]\u001b[0m\u001b[0;34m)\u001b[0m\u001b[0;34m\u001b[0m\u001b[0;34m\u001b[0m\u001b[0m\n\u001b[0m\u001b[1;32m      9\u001b[0m \u001b[0;34m\u001b[0m\u001b[0m\n\u001b[1;32m     10\u001b[0m \u001b[0;31m# jupyter notebook에서 .png 직접 출력\u001b[0m\u001b[0;34m\u001b[0m\u001b[0;34m\u001b[0m\u001b[0;34m\u001b[0m\u001b[0m\n",
      "\u001b[0;32m/Applications/Xcode.app/Contents/Developer/Library/Frameworks/Python3.framework/Versions/3.8/lib/python3.8/subprocess.py\u001b[0m in \u001b[0;36mcall\u001b[0;34m(timeout, *popenargs, **kwargs)\u001b[0m\n\u001b[1;32m    338\u001b[0m     \u001b[0mretcode\u001b[0m \u001b[0;34m=\u001b[0m \u001b[0mcall\u001b[0m\u001b[0;34m(\u001b[0m\u001b[0;34m[\u001b[0m\u001b[0;34m\"ls\"\u001b[0m\u001b[0;34m,\u001b[0m \u001b[0;34m\"-l\"\u001b[0m\u001b[0;34m]\u001b[0m\u001b[0;34m)\u001b[0m\u001b[0;34m\u001b[0m\u001b[0;34m\u001b[0m\u001b[0m\n\u001b[1;32m    339\u001b[0m     \"\"\"\n\u001b[0;32m--> 340\u001b[0;31m     \u001b[0;32mwith\u001b[0m \u001b[0mPopen\u001b[0m\u001b[0;34m(\u001b[0m\u001b[0;34m*\u001b[0m\u001b[0mpopenargs\u001b[0m\u001b[0;34m,\u001b[0m \u001b[0;34m**\u001b[0m\u001b[0mkwargs\u001b[0m\u001b[0;34m)\u001b[0m \u001b[0;32mas\u001b[0m \u001b[0mp\u001b[0m\u001b[0;34m:\u001b[0m\u001b[0;34m\u001b[0m\u001b[0;34m\u001b[0m\u001b[0m\n\u001b[0m\u001b[1;32m    341\u001b[0m         \u001b[0;32mtry\u001b[0m\u001b[0;34m:\u001b[0m\u001b[0;34m\u001b[0m\u001b[0;34m\u001b[0m\u001b[0m\n\u001b[1;32m    342\u001b[0m             \u001b[0;32mreturn\u001b[0m \u001b[0mp\u001b[0m\u001b[0;34m.\u001b[0m\u001b[0mwait\u001b[0m\u001b[0;34m(\u001b[0m\u001b[0mtimeout\u001b[0m\u001b[0;34m=\u001b[0m\u001b[0mtimeout\u001b[0m\u001b[0;34m)\u001b[0m\u001b[0;34m\u001b[0m\u001b[0;34m\u001b[0m\u001b[0m\n",
      "\u001b[0;32m/Applications/Xcode.app/Contents/Developer/Library/Frameworks/Python3.framework/Versions/3.8/lib/python3.8/subprocess.py\u001b[0m in \u001b[0;36m__init__\u001b[0;34m(self, args, bufsize, executable, stdin, stdout, stderr, preexec_fn, close_fds, shell, cwd, env, universal_newlines, startupinfo, creationflags, restore_signals, start_new_session, pass_fds, encoding, errors, text)\u001b[0m\n\u001b[1;32m    856\u001b[0m                             encoding=encoding, errors=errors)\n\u001b[1;32m    857\u001b[0m \u001b[0;34m\u001b[0m\u001b[0m\n\u001b[0;32m--> 858\u001b[0;31m             self._execute_child(args, executable, preexec_fn, close_fds,\n\u001b[0m\u001b[1;32m    859\u001b[0m                                 \u001b[0mpass_fds\u001b[0m\u001b[0;34m,\u001b[0m \u001b[0mcwd\u001b[0m\u001b[0;34m,\u001b[0m \u001b[0menv\u001b[0m\u001b[0;34m,\u001b[0m\u001b[0;34m\u001b[0m\u001b[0;34m\u001b[0m\u001b[0m\n\u001b[1;32m    860\u001b[0m                                 \u001b[0mstartupinfo\u001b[0m\u001b[0;34m,\u001b[0m \u001b[0mcreationflags\u001b[0m\u001b[0;34m,\u001b[0m \u001b[0mshell\u001b[0m\u001b[0;34m,\u001b[0m\u001b[0;34m\u001b[0m\u001b[0;34m\u001b[0m\u001b[0m\n",
      "\u001b[0;32m/Applications/Xcode.app/Contents/Developer/Library/Frameworks/Python3.framework/Versions/3.8/lib/python3.8/subprocess.py\u001b[0m in \u001b[0;36m_execute_child\u001b[0;34m(self, args, executable, preexec_fn, close_fds, pass_fds, cwd, env, startupinfo, creationflags, shell, p2cread, p2cwrite, c2pread, c2pwrite, errread, errwrite, restore_signals, start_new_session)\u001b[0m\n\u001b[1;32m   1702\u001b[0m                     \u001b[0;32mif\u001b[0m \u001b[0merrno_num\u001b[0m \u001b[0;34m!=\u001b[0m \u001b[0;36m0\u001b[0m\u001b[0;34m:\u001b[0m\u001b[0;34m\u001b[0m\u001b[0;34m\u001b[0m\u001b[0m\n\u001b[1;32m   1703\u001b[0m                         \u001b[0merr_msg\u001b[0m \u001b[0;34m=\u001b[0m \u001b[0mos\u001b[0m\u001b[0;34m.\u001b[0m\u001b[0mstrerror\u001b[0m\u001b[0;34m(\u001b[0m\u001b[0merrno_num\u001b[0m\u001b[0;34m)\u001b[0m\u001b[0;34m\u001b[0m\u001b[0;34m\u001b[0m\u001b[0m\n\u001b[0;32m-> 1704\u001b[0;31m                     \u001b[0;32mraise\u001b[0m \u001b[0mchild_exception_type\u001b[0m\u001b[0;34m(\u001b[0m\u001b[0merrno_num\u001b[0m\u001b[0;34m,\u001b[0m \u001b[0merr_msg\u001b[0m\u001b[0;34m,\u001b[0m \u001b[0merr_filename\u001b[0m\u001b[0;34m)\u001b[0m\u001b[0;34m\u001b[0m\u001b[0;34m\u001b[0m\u001b[0m\n\u001b[0m\u001b[1;32m   1705\u001b[0m                 \u001b[0;32mraise\u001b[0m \u001b[0mchild_exception_type\u001b[0m\u001b[0;34m(\u001b[0m\u001b[0merr_msg\u001b[0m\u001b[0;34m)\u001b[0m\u001b[0;34m\u001b[0m\u001b[0;34m\u001b[0m\u001b[0m\n\u001b[1;32m   1706\u001b[0m \u001b[0;34m\u001b[0m\u001b[0m\n",
      "\u001b[0;31mFileNotFoundError\u001b[0m: [Errno 2] No such file or directory: 'dot'"
     ]
    }
   ],
   "source": [
    "from sklearn.tree import export_graphviz\n",
    "\n",
    "# .dot 파일로 export 해줍니다\n",
    "export_graphviz(estimator, out_file='tree.dot')\n",
    "\n",
    "# 생성된 .dot 파일을 .png로 변환\n",
    "from subprocess import call\n",
    "call(['dot', '-Tpng', 'tree.dot', '-o', 'decistion-tree.png', '-Gdpi=600'])\n",
    "\n",
    "# jupyter notebook에서 .png 직접 출력\n",
    "from IPython.display import Image\n",
    "Image(filename = 'decistion-tree.png')"
   ]
  },
  {
   "cell_type": "markdown",
   "id": "3f3ef9a2",
   "metadata": {},
   "source": [
    "### 나이브 베이즈를 통한 예측"
   ]
  },
  {
   "cell_type": "code",
   "execution_count": 336,
   "id": "129c4099",
   "metadata": {},
   "outputs": [
    {
     "name": "stdout",
     "output_type": "stream",
     "text": [
      "Train 정확도 : 42.4%\n",
      "Test 정확도 : 43.8%\n"
     ]
    }
   ],
   "source": [
    "estimator = GaussianNB()\n",
    "\n",
    "estimator.fit(x_train, y_train)\n",
    "\n",
    "y_predict = estimator.predict(x_train) \n",
    "score = metrics.accuracy_score(y_train, y_predict)\n",
    "print(\"Train 정확도 : {}%\".format(round(score * 100,1))) #1.0\n",
    "\n",
    "y_predict = estimator.predict(x_test) \n",
    "score = metrics.accuracy_score(y_test, y_predict)\n",
    "print(\"Test 정확도 : {}%\".format(round(score * 100,1))) #1.0"
   ]
  },
  {
   "cell_type": "markdown",
   "id": "integral-penguin",
   "metadata": {},
   "source": [
    "### 나이브 베이즈 모델을 file로 저장하고 불러온다. "
   ]
  },
  {
   "cell_type": "code",
   "execution_count": 337,
   "id": "republican-marshall",
   "metadata": {},
   "outputs": [
    {
     "name": "stdout",
     "output_type": "stream",
     "text": [
      "[PREDICT RESULT] [5 5 7 ... 6 6 6]\n",
      "[ACCURACY] 43.8%\n"
     ]
    }
   ],
   "source": [
    "import pickle\n",
    "import joblib\n",
    "\n",
    "# 모델을 파일에 저장\n",
    "naive_model_reuslt_filename = 'naive_model.sav'\n",
    "pickle.dump(estimator, open(naive_model_reuslt_filename, 'wb'))\n",
    "\n",
    "# 모델을 불러온다. \n",
    "loaded_model = pickle.load(open(naive_model_reuslt_filename, 'rb'))\n",
    "\n",
    "# accuracy를 구한다.\n",
    "results = loaded_model.predict(x_train)\n",
    "score_result = loaded_model.score(x_test, y_test)\n",
    "\n",
    "print(\"[PREDICT RESULT] {}\".format(results))\n",
    "print(\"[ACCURACY] {}%\".format(round(score_result*100,1)))\n"
   ]
  },
  {
   "cell_type": "markdown",
   "id": "16e3bfad",
   "metadata": {},
   "source": [
    "### 앙상블 기법을 이용한 예측"
   ]
  },
  {
   "cell_type": "code",
   "execution_count": 338,
   "id": "d1f8dbeb",
   "metadata": {},
   "outputs": [
    {
     "name": "stdout",
     "output_type": "stream",
     "text": [
      "Train 정확도 : 79.2%\n",
      "Test 정확도 : 57.3%\n"
     ]
    },
    {
     "name": "stderr",
     "output_type": "stream",
     "text": [
      "/Users/david/Library/Python/3.8/lib/python/site-packages/sklearn/linear_model/_logistic.py:814: ConvergenceWarning: lbfgs failed to converge (status=1):\n",
      "STOP: TOTAL NO. of ITERATIONS REACHED LIMIT.\n",
      "\n",
      "Increase the number of iterations (max_iter) or scale the data as shown in:\n",
      "    https://scikit-learn.org/stable/modules/preprocessing.html\n",
      "Please also refer to the documentation for alternative solver options:\n",
      "    https://scikit-learn.org/stable/modules/linear_model.html#logistic-regression\n",
      "  n_iter_i = _check_optimize_result(\n"
     ]
    }
   ],
   "source": [
    "estimator = VotingClassifier(estimators=[('lr', LogisticRegression()),\n",
    "                                         ('kn', KNeighborsClassifier()),\n",
    "                                         ('dt', DecisionTreeClassifier())], voting='hard', weights=None)\n",
    "\n",
    "estimator.fit(x_train, y_train)\n",
    "\n",
    "y_predict = estimator.predict(x_train) \n",
    "score = metrics.accuracy_score(y_train, y_predict)\n",
    "print(\"Train 정확도 : {}%\".format(round(score * 100,1))) #1.0\n",
    "\n",
    "y_predict = estimator.predict(x_test) \n",
    "score = metrics.accuracy_score(y_test, y_predict)\n",
    "print(\"Test 정확도 : {}%\".format(round(score * 100,1))) #1.0"
   ]
  },
  {
   "cell_type": "markdown",
   "id": "869ddcb5",
   "metadata": {},
   "source": [
    "### 랜덤 포레스트를 이용한 예측"
   ]
  },
  {
   "cell_type": "code",
   "execution_count": 339,
   "id": "82fc85b9",
   "metadata": {},
   "outputs": [
    {
     "name": "stdout",
     "output_type": "stream",
     "text": [
      "Train 정확도 : 100.0%\n",
      "Test 정확도 : 68.2%\n"
     ]
    }
   ],
   "source": [
    "#estimator = RandomForestClassifier(random_state=0)\n",
    "estimator = RandomForestClassifier(\n",
    "    \n",
    ")\n",
    "\n",
    "estimator.fit(x_train, y_train)\n",
    "\n",
    "y_predict = estimator.predict(x_train) \n",
    "score = metrics.accuracy_score(y_train, y_predict)\n",
    "print(\"Train 정확도 : {}%\".format(round(score * 100,1))) #1.0\n",
    "\n",
    "y_predict = estimator.predict(x_test) \n",
    "score = metrics.accuracy_score(y_test, y_predict)\n",
    "print(\"Test 정확도 : {}%\".format(round(score * 100,1))) #1.0"
   ]
  },
  {
   "cell_type": "code",
   "execution_count": 315,
   "id": "adequate-perception",
   "metadata": {},
   "outputs": [
    {
     "data": {
      "text/plain": [
       "<AxesSubplot:>"
      ]
     },
     "execution_count": 315,
     "metadata": {},
     "output_type": "execute_result"
    },
    {
     "data": {
      "image/png": "[encoded data removed]",
      "text/plain": [
       "<Figure size 720x720 with 1 Axes>"
      ]
     },
     "metadata": {},
     "output_type": "display_data"
    }
   ],
   "source": [
    "feat_importances = pd.Series(estimator.feature_importances_, index=x_train.columns)\n",
    "feat_importances.nlargest(25).plot(kind='barh',figsize=(10,10))"
   ]
  },
  {
   "cell_type": "markdown",
   "id": "interior-illinois",
   "metadata": {},
   "source": [
    "### GRID SEARCH를 이용한 랜덤 포레스트 모델 하이퍼 파라미터 튜닝"
   ]
  },
  {
   "cell_type": "code",
   "execution_count": 288,
   "id": "cordless-jersey",
   "metadata": {},
   "outputs": [
    {
     "name": "stderr",
     "output_type": "stream",
     "text": [
      "/Users/david/Library/Python/3.8/lib/python/site-packages/sklearn/model_selection/_split.py:676: UserWarning: The least populated class in y has only 2 members, which is less than n_splits=3.\n",
      "  warnings.warn(\n"
     ]
    },
    {
     "name": "stdout",
     "output_type": "stream",
     "text": [
      "최적 하이퍼 파라미터:  {'max_depth': 6, 'min_samples_leaf': 8, 'min_samples_split': 20, 'n_estimators': 5}\n",
      "최고 예측 정확도: 0.6106\n"
     ]
    },
    {
     "name": "stderr",
     "output_type": "stream",
     "text": [
      "/Users/david/Library/Python/3.8/lib/python/site-packages/sklearn/model_selection/_validation.py:372: FitFailedWarning: \n",
      "108 fits failed out of a total of 1404.\n",
      "The score on these train-test partitions for these parameters will be set to nan.\n",
      "If these failures are not expected, you can try to debug them by setting error_score='raise'.\n",
      "\n",
      "Below are more details about the failures:\n",
      "--------------------------------------------------------------------------------\n",
      "108 fits failed with the following error:\n",
      "Traceback (most recent call last):\n",
      "  File \"/Users/david/Library/Python/3.8/lib/python/site-packages/sklearn/model_selection/_validation.py\", line 681, in _fit_and_score\n",
      "    estimator.fit(X_train, y_train, **fit_params)\n",
      "  File \"/Users/david/Library/Python/3.8/lib/python/site-packages/sklearn/ensemble/_forest.py\", line 384, in fit\n",
      "    self._validate_estimator()\n",
      "  File \"/Users/david/Library/Python/3.8/lib/python/site-packages/sklearn/ensemble/_base.py\", line 138, in _validate_estimator\n",
      "    raise ValueError(\n",
      "ValueError: n_estimators must be greater than zero, got 0.\n",
      "\n",
      "  warnings.warn(some_fits_failed_message, FitFailedWarning)\n",
      "/Users/david/Library/Python/3.8/lib/python/site-packages/sklearn/model_selection/_search.py:969: UserWarning: One or more of the test scores are non-finite: [       nan 0.52970297 0.55610561 0.55115512 0.54950495 0.57260726\n",
      " 0.57425743 0.56765677 0.56930693 0.57260726 0.58745875 0.58745875\n",
      " 0.58250825        nan 0.52970297 0.55610561 0.55115512 0.54950495\n",
      " 0.57260726 0.57425743 0.56765677 0.56930693 0.57260726 0.58745875\n",
      " 0.58745875 0.58250825        nan 0.5330033  0.55610561 0.58415842\n",
      " 0.59240924 0.61056106 0.58910891 0.5990099  0.58415842 0.58085809\n",
      " 0.58580858 0.58745875 0.5990099         nan 0.54290429 0.55940594\n",
      " 0.5660066  0.56105611 0.5709571  0.5660066  0.57920792 0.58250825\n",
      " 0.57425743 0.57425743 0.58415842 0.58415842        nan 0.54290429\n",
      " 0.55940594 0.5660066  0.56105611 0.5709571  0.5660066  0.57920792\n",
      " 0.58250825 0.57425743 0.57425743 0.58415842 0.58415842        nan\n",
      " 0.54290429 0.55940594 0.5660066  0.56105611 0.5709571  0.5660066\n",
      " 0.57920792 0.58250825 0.57425743 0.57425743 0.58415842 0.58415842\n",
      "        nan 0.5379538  0.56105611 0.56270627 0.5709571  0.56435644\n",
      " 0.56105611 0.57260726 0.55445545 0.55610561 0.56270627 0.56105611\n",
      " 0.56435644        nan 0.5379538  0.56105611 0.56270627 0.5709571\n",
      " 0.56435644 0.56105611 0.57260726 0.55445545 0.55610561 0.56270627\n",
      " 0.56105611 0.56435644        nan 0.5379538  0.56105611 0.56270627\n",
      " 0.5709571  0.56435644 0.56105611 0.57260726 0.55445545 0.55610561\n",
      " 0.56270627 0.56105611 0.56435644        nan 0.50990099 0.56105611\n",
      " 0.56105611 0.57425743 0.57755776 0.57755776 0.57920792 0.59240924\n",
      " 0.59075908 0.59570957 0.58910891 0.59735974        nan 0.50990099\n",
      " 0.56105611 0.56105611 0.57425743 0.57755776 0.57755776 0.57920792\n",
      " 0.59240924 0.59075908 0.59570957 0.58910891 0.59735974        nan\n",
      " 0.51650165 0.55610561 0.59240924 0.59075908 0.6039604  0.6039604\n",
      " 0.5990099  0.58580858 0.58250825 0.57260726 0.57755776 0.58910891\n",
      "        nan 0.52310231 0.56270627 0.58415842 0.56105611 0.5660066\n",
      " 0.56270627 0.5660066  0.56765677 0.5709571  0.57425743 0.57755776\n",
      " 0.57755776        nan 0.52310231 0.56270627 0.58415842 0.56105611\n",
      " 0.5660066  0.56270627 0.5660066  0.56765677 0.5709571  0.57425743\n",
      " 0.57755776 0.57755776        nan 0.52310231 0.56270627 0.58415842\n",
      " 0.56105611 0.5660066  0.56270627 0.5660066  0.56765677 0.5709571\n",
      " 0.57425743 0.57755776 0.57755776        nan 0.5379538  0.56105611\n",
      " 0.56270627 0.5709571  0.55940594 0.55445545 0.56270627 0.54950495\n",
      " 0.54950495 0.56105611 0.55610561 0.56435644        nan 0.5379538\n",
      " 0.56105611 0.56270627 0.5709571  0.55940594 0.55445545 0.56270627\n",
      " 0.54950495 0.54950495 0.56105611 0.55610561 0.56435644        nan\n",
      " 0.5379538  0.56105611 0.56270627 0.5709571  0.55940594 0.55445545\n",
      " 0.56270627 0.54950495 0.54950495 0.56105611 0.55610561 0.56435644\n",
      "        nan 0.52805281 0.57425743 0.56930693 0.56930693 0.57920792\n",
      " 0.58250825 0.57260726 0.58910891 0.59240924 0.60231023 0.59570957\n",
      " 0.60231023        nan 0.52805281 0.57425743 0.56930693 0.56930693\n",
      " 0.57920792 0.58250825 0.57260726 0.58910891 0.59240924 0.60231023\n",
      " 0.59570957 0.60231023        nan 0.51815182 0.55940594 0.58415842\n",
      " 0.59405941 0.60231023 0.58910891 0.60231023 0.59240924 0.59240924\n",
      " 0.58910891 0.58250825 0.58745875        nan 0.52310231 0.56270627\n",
      " 0.58415842 0.56105611 0.5660066  0.56270627 0.5660066  0.56765677\n",
      " 0.5709571  0.57425743 0.57755776 0.57755776        nan 0.52310231\n",
      " 0.56270627 0.58415842 0.56105611 0.5660066  0.56270627 0.5660066\n",
      " 0.56765677 0.5709571  0.57425743 0.57755776 0.57755776        nan\n",
      " 0.52310231 0.56270627 0.58415842 0.56105611 0.5660066  0.56270627\n",
      " 0.5660066  0.56765677 0.5709571  0.57425743 0.57755776 0.57755776\n",
      "        nan 0.5379538  0.56105611 0.56270627 0.5709571  0.55940594\n",
      " 0.55445545 0.56270627 0.54950495 0.54950495 0.56105611 0.55610561\n",
      " 0.56435644        nan 0.5379538  0.56105611 0.56270627 0.5709571\n",
      " 0.55940594 0.55445545 0.56270627 0.54950495 0.54950495 0.56105611\n",
      " 0.55610561 0.56435644        nan 0.5379538  0.56105611 0.56270627\n",
      " 0.5709571  0.55940594 0.55445545 0.56270627 0.54950495 0.54950495\n",
      " 0.56105611 0.55610561 0.56435644        nan 0.52805281 0.57425743\n",
      " 0.56930693 0.56930693 0.57920792 0.58250825 0.57260726 0.58910891\n",
      " 0.59240924 0.60231023 0.59570957 0.60231023        nan 0.52805281\n",
      " 0.57425743 0.56930693 0.56930693 0.57920792 0.58250825 0.57260726\n",
      " 0.58910891 0.59240924 0.60231023 0.59570957 0.60231023        nan\n",
      " 0.51815182 0.55940594 0.58415842 0.59405941 0.60231023 0.58910891\n",
      " 0.6039604  0.59240924 0.59240924 0.58910891 0.58250825 0.58745875\n",
      "        nan 0.52310231 0.56270627 0.58415842 0.56105611 0.5660066\n",
      " 0.56270627 0.5660066  0.56765677 0.5709571  0.57425743 0.57755776\n",
      " 0.57755776        nan 0.52310231 0.56270627 0.58415842 0.56105611\n",
      " 0.5660066  0.56270627 0.5660066  0.56765677 0.5709571  0.57425743\n",
      " 0.57755776 0.57755776        nan 0.52310231 0.56270627 0.58415842\n",
      " 0.56105611 0.5660066  0.56270627 0.5660066  0.56765677 0.5709571\n",
      " 0.57425743 0.57755776 0.57755776        nan 0.5379538  0.56105611\n",
      " 0.56270627 0.5709571  0.55940594 0.55445545 0.56270627 0.54950495\n",
      " 0.54950495 0.56105611 0.55610561 0.56435644        nan 0.5379538\n",
      " 0.56105611 0.56270627 0.5709571  0.55940594 0.55445545 0.56270627\n",
      " 0.54950495 0.54950495 0.56105611 0.55610561 0.56435644        nan\n",
      " 0.5379538  0.56105611 0.56270627 0.5709571  0.55940594 0.55445545\n",
      " 0.56270627 0.54950495 0.54950495 0.56105611 0.55610561 0.56435644]\n",
      "  warnings.warn(\n"
     ]
    }
   ],
   "source": [
    "from sklearn.model_selection import GridSearchCV\n",
    "\n",
    "params = { 'n_estimators' : [0, 1,2,3,4,5,6,7,8,9,10,11,12],\n",
    "           'max_depth' : [6, 8, 10, 12],\n",
    "           'min_samples_leaf' : [8, 12, 18],\n",
    "           'min_samples_split' : [8, 16, 20]\n",
    "            }\n",
    "\n",
    "rf_clf = RandomForestClassifier(random_state = 0, n_jobs = -1)\n",
    "grid_cv = GridSearchCV(rf_clf, param_grid = params, cv = 3, n_jobs = -1)\n",
    "grid_cv.fit(x_train, y_train)\n",
    "\n",
    "print('최적 하이퍼 파라미터: ', grid_cv.best_params_)\n",
    "print('최고 예측 정확도: {:.4f}'.format(grid_cv.best_score_))"
   ]
  },
  {
   "cell_type": "markdown",
   "id": "intensive-sacramento",
   "metadata": {},
   "source": [
    "### SVM을 이용한 분류 "
   ]
  },
  {
   "cell_type": "code",
   "execution_count": 289,
   "id": "headed-development",
   "metadata": {},
   "outputs": [
    {
     "name": "stderr",
     "output_type": "stream",
     "text": [
      "/Users/david/Library/Python/3.8/lib/python/site-packages/sklearn/model_selection/_split.py:676: UserWarning: The least populated class in y has only 1 members, which is less than n_splits=5.\n",
      "  warnings.warn(\n"
     ]
    },
    {
     "name": "stdout",
     "output_type": "stream",
     "text": [
      "교차검증 평균:  0.5116949152542373\n"
     ]
    }
   ],
   "source": [
    "svm_clf = svm.SVC(kernel='linear')\n",
    "svm_clf.fit(x_train, y_train)\n",
    "\n",
    "scores = cross_val_score(svm_clf, x_test, y_test, cv = 5)\n",
    "scores\n",
    "\n",
    "print('교차검증 평균: ', scores.mean())"
   ]
  },
  {
   "cell_type": "markdown",
   "id": "f05d44b0",
   "metadata": {},
   "source": [
    "### 딥러닝을 위한 데이터 변경"
   ]
  },
  {
   "cell_type": "code",
   "execution_count": 54,
   "id": "8ccb9405",
   "metadata": {},
   "outputs": [
    {
     "data": {
      "text/plain": [
       "<AxesSubplot:>"
      ]
     },
     "execution_count": 54,
     "metadata": {},
     "output_type": "execute_result"
    },
    {
     "data": {
      "image/png": "[encoded data removed]",
      "text/plain": [
       "<Figure size 1440x720 with 1 Axes>"
      ]
     },
     "metadata": {},
     "output_type": "display_data"
    }
   ],
   "source": [
    "scaler = StandardScaler().fit(x_train)\n",
    "X_train = scaler.transform(x_train)  # scaler should be fitted to train only not the entire set\n",
    "X_test = scaler.transform(x_test)\n",
    "\n",
    "sns.boxplot(data = X_train) "
   ]
  },
  {
   "cell_type": "code",
   "execution_count": 65,
   "id": "sitting-pizza",
   "metadata": {},
   "outputs": [
    {
     "name": "stderr",
     "output_type": "stream",
     "text": [
      "/Users/david/Library/Python/3.8/lib/python/site-packages/sklearn/neural_network/_multilayer_perceptron.py:699: UserWarning: Training interrupted by user.\n",
      "  warnings.warn(\"Training interrupted by user.\")\n",
      "Exception in thread "
     ]
    },
    {
     "name": "stdout",
     "output_type": "stream",
     "text": [
      "************* RESUT OF MLP *************\n",
      "Training set score: 0.601103\n",
      "Test set score: 0.553380"
     ]
    },
    {
     "name": "stderr",
     "output_type": "stream",
     "text": [
      "\n",
      "KeyboardInterrupt\n",
      "\n",
      "ExecutorManagerThread:\n",
      "Traceback (most recent call last):\n",
      "  File \"/Applications/Xcode.app/Contents/Developer/Library/Frameworks/Python3.framework/Versions/3.8/lib/python3.8/threading.py\", line 932, in _bootstrap_inner\n",
      "    self.run()\n",
      "  File \"/Users/david/Library/Python/3.8/lib/python/site-packages/joblib/externals/loky/process_executor.py\", line 566, in run\n",
      "    self.terminate_broken(bpe)\n",
      "  File \"/Users/david/Library/Python/3.8/lib/python/site-packages/joblib/externals/loky/process_executor.py\", line 750, in terminate_broken\n",
      "    self.kill_workers(reason=\"broken executor\")\n",
      "  File \"/Users/david/Library/Python/3.8/lib/python/site-packages/joblib/externals/loky/process_executor.py\", line 781, in kill_workers\n",
      "    recursive_terminate(p)\n",
      "  File \"/Users/david/Library/Python/3.8/lib/python/site-packages/joblib/externals/loky/backend/utils.py\", line 28, in recursive_terminate\n",
      "    _recursive_terminate_without_psutil(process)\n",
      "  File \"/Users/david/Library/Python/3.8/lib/python/site-packages/joblib/externals/loky/backend/utils.py\", line 53, in _recursive_terminate_without_psutil\n",
      "    _recursive_terminate(process.pid)\n",
      "  File \"/Users/david/Library/Python/3.8/lib/python/site-packages/joblib/externals/loky/backend/utils.py\", line 92, in _recursive_terminate\n",
      "    children_pids = subprocess.check_output(\n",
      "  File \"/Applications/Xcode.app/Contents/Developer/Library/Frameworks/Python3.framework/Versions/3.8/lib/python3.8/subprocess.py\", line 415, in check_output\n"
     ]
    }
   ],
   "source": [
    "import warnings\n",
    "\n",
    "mlp = MLPClassifier(\n",
    "#     hidden_layer_sizes=(20,12,8),\n",
    "#     max_iter=20,\n",
    "#     alpha=1e-4,\n",
    "#     solver=\"sgd\",\n",
    "#     verbose=20,\n",
    "#     random_state=0,\n",
    "#     learning_rate_init=0.05,\n",
    ")\n",
    "\n",
    "with warnings.catch_warnings():\n",
    "    warnings.filterwarnings(\"ignore\", category=ConvergenceWarning, module=\"sklearn\")\n",
    "    mlp.fit(X_train, y_train)\n",
    "    \n",
    "print(\"************* RESUT OF MLP *************\")\n",
    "print(\"Training set score: %f\" % mlp.score(X_train, y_train))\n",
    "print(\"Test set score: %f\" % mlp.score(X_test, y_test))"
   ]
  },
  {
   "cell_type": "code",
   "execution_count": 177,
   "id": "b541221a",
   "metadata": {},
   "outputs": [
    {
     "data": {
      "text/plain": [
       "<AxesSubplot:>"
      ]
     },
     "execution_count": 177,
     "metadata": {},
     "output_type": "execute_result"
    },
    {
     "data": {
      "image/png": "[encoded data removed]",
      "text/plain": [
       "<Figure size 1440x720 with 1 Axes>"
      ]
     },
     "metadata": {},
     "output_type": "display_data"
    }
   ],
   "source": [
    "sns.boxplot(data = X_test)"
   ]
  },
  {
   "cell_type": "markdown",
   "id": "3aeb51d6",
   "metadata": {},
   "source": [
    "### MLP를 통한 분석"
   ]
  },
  {
   "cell_type": "code",
   "execution_count": null,
   "id": "02707515",
   "metadata": {},
   "outputs": [],
   "source": [
    "from keras.models import Sequential\n",
    "from keras.layers import Dense, Activation\n",
    "\n",
    "# Initialize the constructor\n",
    "model = Sequential()\n",
    "\n",
    "# Add an input layer \n",
    "model.add(Dense(12, activation='relu', input_shape=(12,)))\n",
    "\n",
    "# Add one hidden layer \n",
    "model.add(Dense(8, activation='relu'))\n",
    "\n",
    "# Add an output layer \n",
    "model.add(Dense(1, activation='sigmoid'))"
   ]
  },
  {
   "cell_type": "code",
   "execution_count": 179,
   "id": "d131059b",
   "metadata": {},
   "outputs": [
    {
     "data": {
      "text/plain": [
       "(4352, 12)"
      ]
     },
     "execution_count": 179,
     "metadata": {},
     "output_type": "execute_result"
    }
   ],
   "source": [
    "X_train.shape"
   ]
  },
  {
   "cell_type": "code",
   "execution_count": 180,
   "id": "40afe821",
   "metadata": {},
   "outputs": [
    {
     "data": {
      "text/plain": [
       "(None, 12)"
      ]
     },
     "execution_count": 180,
     "metadata": {},
     "output_type": "execute_result"
    }
   ],
   "source": [
    "model.input_shape"
   ]
  },
  {
   "cell_type": "code",
   "execution_count": 181,
   "id": "1216bda5",
   "metadata": {},
   "outputs": [
    {
     "data": {
      "text/plain": [
       "(None, 1)"
      ]
     },
     "execution_count": 181,
     "metadata": {},
     "output_type": "execute_result"
    }
   ],
   "source": [
    "model.output_shape"
   ]
  },
  {
   "cell_type": "markdown",
   "id": "f58e6cbe",
   "metadata": {},
   "source": [
    "### 학습"
   ]
  },
  {
   "cell_type": "code",
   "execution_count": 182,
   "id": "4af593da",
   "metadata": {},
   "outputs": [
    {
     "name": "stdout",
     "output_type": "stream",
     "text": [
      "Epoch 1/20\n",
      "4352/4352 [==============================] - 4s 788us/step - loss: 0.0848 - accuracy: 0.9736 - val_loss: 0.0510 - val_accuracy: 0.9888\n",
      "Epoch 2/20\n",
      "4352/4352 [==============================] - 3s 764us/step - loss: 0.0293 - accuracy: 0.9933 - val_loss: 0.0423 - val_accuracy: 0.9888\n",
      "Epoch 3/20\n",
      "4352/4352 [==============================] - 3s 768us/step - loss: 0.0247 - accuracy: 0.9947 - val_loss: 0.0304 - val_accuracy: 0.9930\n",
      "Epoch 4/20\n",
      "4352/4352 [==============================] - 3s 795us/step - loss: 0.0191 - accuracy: 0.9966 - val_loss: 0.0274 - val_accuracy: 0.9944\n",
      "Epoch 5/20\n",
      "4352/4352 [==============================] - 4s 840us/step - loss: 0.0171 - accuracy: 0.9963 - val_loss: 0.0267 - val_accuracy: 0.9930\n",
      "Epoch 6/20\n",
      "4352/4352 [==============================] - 3s 766us/step - loss: 0.0179 - accuracy: 0.9968 - val_loss: 0.0302 - val_accuracy: 0.9939\n",
      "Epoch 7/20\n",
      "4352/4352 [==============================] - 4s 969us/step - loss: 0.0139 - accuracy: 0.9968 - val_loss: 0.0259 - val_accuracy: 0.9930\n",
      "Epoch 8/20\n",
      "4352/4352 [==============================] - 4s 1ms/step - loss: 0.0162 - accuracy: 0.9970 - val_loss: 0.0227 - val_accuracy: 0.9944\n",
      "Epoch 9/20\n",
      "4352/4352 [==============================] - 4s 998us/step - loss: 0.0117 - accuracy: 0.9970 - val_loss: 0.0259 - val_accuracy: 0.9953\n",
      "Epoch 10/20\n",
      "4352/4352 [==============================] - 4s 842us/step - loss: 0.0122 - accuracy: 0.9972 - val_loss: 0.0253 - val_accuracy: 0.9949\n",
      "Epoch 11/20\n",
      "4352/4352 [==============================] - 4s 844us/step - loss: 0.0148 - accuracy: 0.9972 - val_loss: 0.0281 - val_accuracy: 0.9935\n",
      "Epoch 12/20\n",
      "4352/4352 [==============================] - 4s 827us/step - loss: 0.0135 - accuracy: 0.9975 - val_loss: 0.0251 - val_accuracy: 0.9949\n",
      "Epoch 13/20\n",
      "4352/4352 [==============================] - 4s 923us/step - loss: 0.0101 - accuracy: 0.9972 - val_loss: 0.0241 - val_accuracy: 0.9949\n",
      "Epoch 14/20\n",
      "4352/4352 [==============================] - 4s 814us/step - loss: 0.0099 - accuracy: 0.9979 - val_loss: 0.0255 - val_accuracy: 0.9953\n",
      "Epoch 15/20\n",
      "4352/4352 [==============================] - 4s 815us/step - loss: 0.0110 - accuracy: 0.9977 - val_loss: 0.0285 - val_accuracy: 0.9939\n",
      "Epoch 16/20\n",
      "4352/4352 [==============================] - 4s 805us/step - loss: 0.0099 - accuracy: 0.9982 - val_loss: 0.0253 - val_accuracy: 0.9949\n",
      "Epoch 17/20\n",
      "4352/4352 [==============================] - 4s 843us/step - loss: 0.0089 - accuracy: 0.9979 - val_loss: 0.0280 - val_accuracy: 0.9944\n",
      "Epoch 18/20\n",
      "4352/4352 [==============================] - 4s 809us/step - loss: 0.0088 - accuracy: 0.9982 - val_loss: 0.0285 - val_accuracy: 0.9949\n",
      "Epoch 19/20\n",
      "4352/4352 [==============================] - 3s 781us/step - loss: 0.0094 - accuracy: 0.9977 - val_loss: 0.0298 - val_accuracy: 0.9939\n",
      "Epoch 20/20\n",
      "4352/4352 [==============================] - 3s 778us/step - loss: 0.0083 - accuracy: 0.9984 - val_loss: 0.0312 - val_accuracy: 0.9944\n"
     ]
    }
   ],
   "source": [
    "model.compile(loss='binary_crossentropy',\n",
    "              optimizer='adam',\n",
    "              metrics=['accuracy'])\n",
    "                   \n",
    "history = model.fit(X_train, y_train,epochs=20, batch_size=1, validation_data=(X_test, y_test), verbose=1)"
   ]
  },
  {
   "cell_type": "code",
   "execution_count": 183,
   "id": "d06c7ae7",
   "metadata": {},
   "outputs": [
    {
     "name": "stdout",
     "output_type": "stream",
     "text": [
      "dict_keys(['loss', 'accuracy', 'val_loss', 'val_accuracy'])\n"
     ]
    },
    {
     "data": {
      "image/png": "[encoded data removed]",
      "text/plain": [
       "<Figure size 1440x720 with 1 Axes>"
      ]
     },
     "metadata": {},
     "output_type": "display_data"
    }
   ],
   "source": [
    "print(history.history.keys())\n",
    "plt.plot(history.history['accuracy'])\n",
    "plt.plot(history.history['val_accuracy'])\n",
    "plt.title('model accuracy')\n",
    "plt.ylabel('accuracy')\n",
    "plt.xlabel('epoch')\n",
    "plt.legend(['train', 'test'], loc='upper left')\n",
    "plt.show()"
   ]
  },
  {
   "cell_type": "code",
   "execution_count": 32,
   "id": "b5ec3ce4",
   "metadata": {},
   "outputs": [
    {
     "name": "stdout",
     "output_type": "stream",
     "text": [
      "68/68 [==============================] - 0s 1ms/step - loss: 0.0266 - accuracy: 0.9953\n",
      "0.9953380227088928\n"
     ]
    }
   ],
   "source": [
    "_, accuracy = model.evaluate(X_test, y_test,verbose=1)\n",
    "print(accuracy)"
   ]
  },
  {
   "cell_type": "markdown",
   "id": "immediate-plymouth",
   "metadata": {},
   "source": [
    "# 결론\n",
    "\n",
    "산도 및 밀도 등의 센서를 통해 얻은 데이터를 통해 와인의 quality를 예측해본 결과, 90퍼센트 이상의 유의미한 결과가 도출되었으며, 실제 환경에서도 사용할 수 있을 것으로 판단됨. \n",
    "\n",
    "Tensorflow lite 모델로 변환하여 모바일 환경에서 이를 "
   ]
  }
 ],
 "metadata": {
  "kernelspec": {
   "display_name": "Python 3",
   "language": "python",
   "name": "python3"
  },
  "language_info": {
   "codemirror_mode": {
    "name": "ipython",
    "version": 3
   },
   "file_extension": ".py",
   "mimetype": "text/x-python",
   "name": "python",
   "nbconvert_exporter": "python",
   "pygments_lexer": "ipython3",
   "version": "3.8.9"
  }
 },
 "nbformat": 4,
 "nbformat_minor": 5
}
